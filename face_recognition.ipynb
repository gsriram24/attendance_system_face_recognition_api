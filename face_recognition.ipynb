{
 "metadata": {
  "language_info": {
   "codemirror_mode": {
    "name": "ipython",
    "version": 3
   },
   "file_extension": ".py",
   "mimetype": "text/x-python",
   "name": "python",
   "nbconvert_exporter": "python",
   "pygments_lexer": "ipython3",
   "version": "3.8.8"
  },
  "orig_nbformat": 2,
  "kernelspec": {
   "name": "python388jvsc74a57bd0ca572bc60483c3b0800b33b8e3c5b3698654c835b08da37b683390b4eb7c7abe",
   "display_name": "Python 3.8.8 64-bit ('base': conda)"
  }
 },
 "nbformat": 4,
 "nbformat_minor": 2,
 "cells": [
  {
   "cell_type": "code",
   "execution_count": 2,
   "metadata": {},
   "outputs": [],
   "source": [
    "import face_recognition\n",
    "import numpy as np"
   ]
  },
  {
   "cell_type": "code",
   "execution_count": 3,
   "metadata": {},
   "outputs": [],
   "source": [
    "known_image_encodings = []\n",
    "known_face_ids = ['Biden']"
   ]
  },
  {
   "cell_type": "code",
   "execution_count": 4,
   "metadata": {},
   "outputs": [],
   "source": [
    "image = face_recognition.load_image_file('./biden.jpg')\n",
    "encoding = face_recognition.face_encodings(image)\n",
    "known_image_encodings.append(encoding[0])"
   ]
  },
  {
   "cell_type": "code",
   "execution_count": 5,
   "metadata": {},
   "outputs": [
    {
     "output_type": "execute_result",
     "data": {
      "text/plain": [
       "[array([-0.08082476,  0.1886425 ,  0.08578876,  0.02645177, -0.10662008,\n",
       "         0.03255345, -0.04998898, -0.06288257,  0.07584551,  0.0012752 ,\n",
       "         0.21090204, -0.05755509, -0.25629011,  0.04135656,  0.01065889,\n",
       "         0.1464767 , -0.07158114, -0.05267268, -0.20769921, -0.03685436,\n",
       "         0.03749407,  0.04621475,  0.05599583,  0.02848499, -0.12385353,\n",
       "        -0.28087839, -0.04329219, -0.10118727, -0.05822014, -0.09687419,\n",
       "         0.06016514, -0.0063896 , -0.22784963, -0.04184731, -0.03313495,\n",
       "         0.00262155, -0.07606485, -0.06690392,  0.16795246, -0.03040044,\n",
       "        -0.15297866,  0.05975441,  0.04142918,  0.19913366,  0.22824892,\n",
       "         0.02489284,  0.03769819, -0.08329791,  0.11467881, -0.16564058,\n",
       "         0.04331987,  0.10002068,  0.19347455,  0.11232587,  0.07349868,\n",
       "        -0.07896162,  0.04376197,  0.18639119, -0.22288373,  0.11003619,\n",
       "        -0.02266347, -0.04639694,  0.01647238, -0.06812602,  0.19363318,\n",
       "         0.13229589, -0.05968751, -0.13688722,  0.21610674, -0.11763343,\n",
       "        -0.10610551,  0.08691726, -0.139074  , -0.18432829, -0.35202089,\n",
       "        -0.01770232,  0.28736582,  0.03236857, -0.28584865, -0.09185275,\n",
       "        -0.0019545 , -0.05749876, -0.0441201 ,  0.08123507, -0.05168012,\n",
       "        -0.15142594, -0.06358173,  0.01611433,  0.31483668, -0.07397857,\n",
       "        -0.06074945,  0.26193312,  0.03137437, -0.13257222, -0.00108484,\n",
       "         0.06999835, -0.07404137, -0.03139923, -0.10747713, -0.01080977,\n",
       "        -0.02693668, -0.12469969, -0.09984648,  0.09512218, -0.19589771,\n",
       "         0.13481888, -0.02119049, -0.00097545, -0.05995524,  0.00166786,\n",
       "        -0.12702018, -0.01002779,  0.23865564, -0.1843228 ,  0.26494351,\n",
       "         0.15900537, -0.03869541,  0.03467379, -0.02512855,  0.11930254,\n",
       "         0.00137627,  0.03604142, -0.16779739, -0.1393192 ,  0.08053594,\n",
       "        -0.02691084, -0.00379294,  0.10042696])]"
      ]
     },
     "metadata": {},
     "execution_count": 5
    }
   ],
   "source": [
    "known_image_encodings"
   ]
  },
  {
   "cell_type": "code",
   "execution_count": 6,
   "metadata": {},
   "outputs": [],
   "source": [
    "unknown_image = face_recognition.load_image_file('unknown.jpg')\n",
    "face_locations = face_recognition.face_locations(unknown_image, model=\"hog\")\n",
    "face_encodings = face_recognition.face_encodings(unknown_image, face_locations)"
   ]
  },
  {
   "cell_type": "code",
   "execution_count": 7,
   "metadata": {},
   "outputs": [],
   "source": [
    "face_ids=[]"
   ]
  },
  {
   "cell_type": "code",
   "execution_count": 8,
   "metadata": {},
   "outputs": [],
   "source": [
    "for face_encoding in face_encodings:\n",
    "    matches = face_recognition.compare_faces(known_image_encodings, face_encoding)\n",
    "    face_distances = face_recognition.face_distance(known_image_encodings, face_encoding)\n",
    "    best_match_index = np.argmin(face_distances)\n",
    "    if matches[best_match_index]:\n",
    "        known_id = known_face_ids[best_match_index]\n",
    "        face_ids.append(known_id)"
   ]
  },
  {
   "cell_type": "code",
   "execution_count": 9,
   "metadata": {},
   "outputs": [
    {
     "output_type": "execute_result",
     "data": {
      "text/plain": [
       "['Biden']"
      ]
     },
     "metadata": {},
     "execution_count": 9
    }
   ],
   "source": [
    "face_ids"
   ]
  }
 ]
}